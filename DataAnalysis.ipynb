{
 "cells": [
  {
   "cell_type": "code",
   "execution_count": 15,
   "metadata": {},
   "outputs": [],
   "source": [
    "import pandas as pd\n",
    "import os\n",
    "import matplotlib.pyplot as plt\n",
    "from pyspark.sql import SparkSession\n",
    "from pyspark.sql import SQLContext\n",
    "from pyspark.ml.feature import RegexTokenizer, Tokenizer\n",
    "from pyspark.sql.functions import col, udf\n",
    "from pyspark.sql.types import IntegerType\n",
    "from nltk.classify import NaiveBayesClassifier\n",
    "\n",
    "from toxic_funcs import Cleaner"
   ]
  },
  {
   "cell_type": "code",
   "execution_count": null,
   "metadata": {},
   "outputs": [],
   "source": [
    "# Start Spark session\n",
    "spark = SparkSession.builder.appName('tokenizer').getOrCreate()\n",
    "# Using directly pyspark is giving rubbish so creating pandas df and converting to pyspark dataframe\n",
    "sqlCtx = SQLContext(spark)\n",
    "# Pandas dataframe\n",
    "panda_df = pd.read_csv(\"data/train.csv\")\n",
    "# Converting pandas to pyspark\n",
    "pyspark_dataframe = sqlCtx.createDataFrame(panda_df)\n",
    "pyspark_dataframe.select(\"comment_text\").show(100)\n",
    "pyspark_dataframe.show()\n",
    "\n"
   ]
  },
  {
   "cell_type": "code",
   "execution_count": null,
   "metadata": {},
   "outputs": [],
   "source": [
    "# Tokenizing the comments\n",
    "tokenizer = Tokenizer(inputCol=\"comment_text\", outputCol=\"tokenized_text\")\n",
    "tokenized = tokenizer.transform(pyspark_dataframe)\n",
    "tokenized.show()"
   ]
  },
  {
   "cell_type": "code",
   "execution_count": null,
   "metadata": {},
   "outputs": [],
   "source": [
    "from nltk.sentiment.vader import SentimentIntensityAnalyzer\n",
    "import nltk\n",
    "nltk.download('vader_lexicon')"
   ]
  },
  {
   "cell_type": "code",
   "execution_count": 15,
   "metadata": {
    "collapsed": true
   },
   "outputs": [],
   "source": [
    "sid = SentimentIntensityAnalyzer()"
   ]
  },
  {
   "cell_type": "code",
   "execution_count": 16,
   "metadata": {},
   "outputs": [
    {
     "name": "stdout",
     "output_type": "stream",
     "text": [
      "159571\n"
     ]
    }
   ],
   "source": [
    "comments = pyspark_dataframe.select(\"comment_text\").collect()\n",
    "#Convert the dataframe column to list\n",
    "comment_list = list(\n",
    "    pyspark_dataframe.select('comment_text').toPandas()['comment_text']\n",
    ")"
   ]
  },
  {
   "cell_type": "code",
   "execution_count": 19,
   "metadata": {},
   "outputs": [
    {
     "name": "stdout",
     "output_type": "stream",
     "text": [
      "compound: 0.5574, neg: 0.0, neu: 0.897, pos: 0.103, compound: 0.2942, neg: 0.099, neu: 0.743, pos: 0.158, compound: -0.1779, neg: 0.083, neu: 0.849, pos: 0.068, compound: 0.5106, neg: 0.022, neu: 0.916, pos: 0.062, compound: 0.6808, neg: 0.0, neu: 0.663, pos: 0.337, compound: 0.7964, neg: 0.0, neu: 0.464, pos: 0.536, compound: -0.7783, neg: 0.531, neu: 0.469, pos: 0.0, compound: -0.1779, neg: 0.129, neu: 0.773, pos: 0.099, compound: -0.802, neg: 0.109, neu: 0.891, pos: 0.0, compound: 0.0, neg: 0.0, neu: 1.0, pos: 0.0, compound: 0.991, neg: 0.019, neu: 0.877, pos: 0.104, compound: 0.0, neg: 0.0, neu: 1.0, pos: 0.0, compound: 0.3034, neg: 0.13, neu: 0.673, pos: 0.197, compound: -0.4015, neg: 0.12, neu: 0.783, pos: 0.097, compound: 0.128, neg: 0.16, neu: 0.668, pos: 0.171, compound: -0.5672, neg: 0.071, neu: 0.888, pos: 0.041, compound: 0.0, neg: 0.0, neu: 1.0, pos: 0.0, compound: 0.0, neg: 0.0, neu: 1.0, pos: 0.0, compound: -0.0423, neg: 0.099, neu: 0.809, pos: 0.092, compound: 0.9188, neg: 0.0, neu: 0.841, pos: 0.159, compound: -0.7741, neg: 0.23, neu: 0.674, pos: 0.096, compound: 0.6249, neg: 0.0, neu: 0.579, pos: 0.421, compound: -0.6945, neg: 0.085, neu: 0.899, pos: 0.016, compound: 0.0, neg: 0.0, neu: 1.0, pos: 0.0, compound: 0.8147, neg: 0.055, neu: 0.854, pos: 0.091, compound: 0.0, neg: 0.0, neu: 1.0, pos: 0.0, compound: -0.2023, neg: 0.047, neu: 0.923, pos: 0.03, compound: -0.5574, neg: 0.097, neu: 0.862, pos: 0.042, compound: 0.1531, neg: 0.0, neu: 0.935, pos: 0.065, compound: 0.0, neg: 0.0, neu: 1.0, pos: 0.0, compound: 0.0, neg: 0.146, neu: 0.707, pos: 0.146, compound: 0.1625, neg: 0.257, neu: 0.507, pos: 0.236, compound: 0.7717, neg: 0.0, neu: 0.544, pos: 0.456, compound: 0.8833, neg: 0.075, neu: 0.774, pos: 0.15, compound: 0.25, neg: 0.068, neu: 0.811, pos: 0.121, compound: -0.7273, neg: 0.104, neu: 0.825, pos: 0.071, compound: 0.4576, neg: 0.011, neu: 0.956, pos: 0.032, compound: 0.3045, neg: 0.036, neu: 0.905, pos: 0.059, compound: -0.7579, neg: 0.238, neu: 0.698, pos: 0.063, compound: 0.9457, neg: 0.012, neu: 0.902, pos: 0.086, compound: 0.7269, neg: 0.0, neu: 0.814, pos: 0.186, compound: 0.0, neg: 0.0, neu: 1.0, pos: 0.0, compound: -0.9548, neg: 0.156, neu: 0.844, pos: 0.0, compound: -0.807, neg: 0.549, neu: 0.451, pos: 0.0, compound: -0.4201, neg: 0.156, neu: 0.733, pos: 0.111, compound: 0.1195, neg: 0.115, neu: 0.773, pos: 0.112, compound: 0.0, neg: 0.0, neu: 1.0, pos: 0.0, compound: -0.3612, neg: 0.122, neu: 0.878, pos: 0.0, compound: 0.7877, neg: 0.098, neu: 0.759, pos: 0.143, compound: 0.8719, neg: 0.011, neu: 0.917, pos: 0.071, compound: 0.9545, neg: 0.02, neu: 0.914, pos: 0.066, compound: -0.9614, neg: 0.467, neu: 0.533, pos: 0.0, compound: -0.8505, neg: 0.259, neu: 0.705, pos: 0.035, compound: 0.9522, neg: 0.0, neu: 0.814, pos: 0.186, compound: 0.7568, neg: 0.143, neu: 0.341, pos: 0.516, compound: -0.9381, neg: 0.537, neu: 0.358, pos: 0.105, compound: 0.0516, neg: 0.203, neu: 0.581, pos: 0.215, compound: -0.8765, neg: 0.112, neu: 0.862, pos: 0.025, compound: -0.923, neg: 0.125, neu: 0.78, pos: 0.095, compound: -0.8025, neg: 0.131, neu: 0.808, pos: 0.062, compound: -0.1779, neg: 0.155, neu: 0.725, pos: 0.121, compound: 0.7227, neg: 0.0, neu: 0.848, pos: 0.152, compound: 0.0, neg: 0.0, neu: 1.0, pos: 0.0, compound: 0.1596, neg: 0.077, neu: 0.843, pos: 0.08, compound: 0.0, neg: 0.0, neu: 1.0, pos: 0.0, compound: -0.2023, neg: 0.19, neu: 0.618, pos: 0.193, compound: 0.431, neg: 0.0, neu: 0.863, pos: 0.137, compound: 0.128, neg: 0.063, neu: 0.858, pos: 0.079, compound: -0.2732, neg: 0.113, neu: 0.8, pos: 0.087, compound: -0.4767, neg: 0.129, neu: 0.815, pos: 0.055, compound: 0.1779, neg: 0.0, neu: 0.945, pos: 0.055, compound: -0.8031, neg: 0.198, neu: 0.706, pos: 0.096, compound: -0.2411, neg: 0.164, neu: 0.836, pos: 0.0, compound: 0.8948, neg: 0.011, neu: 0.919, pos: 0.07, compound: 0.7717, neg: 0.0, neu: 0.811, pos: 0.189, compound: 0.0, neg: 0.0, neu: 1.0, pos: 0.0, compound: 0.7763, neg: 0.115, neu: 0.626, pos: 0.258, compound: 0.1306, neg: 0.0, neu: 0.97, pos: 0.03, compound: 0.0423, neg: 0.065, neu: 0.832, pos: 0.102, compound: -0.8647, neg: 0.518, neu: 0.482, pos: 0.0, compound: 0.9396, neg: 0.033, neu: 0.836, pos: 0.131, compound: -0.9376, neg: 0.098, neu: 0.83, pos: 0.072, compound: -0.218, neg: 0.067, neu: 0.864, pos: 0.069, compound: 0.8625, neg: 0.0, neu: 0.802, pos: 0.198, compound: -0.431, neg: 0.151, neu: 0.849, pos: 0.0, compound: 0.4404, neg: 0.0, neu: 0.873, pos: 0.127, compound: -0.5709, neg: 0.251, neu: 0.749, pos: 0.0, compound: 0.4215, neg: 0.0, neu: 0.682, pos: 0.318, compound: 0.9521, neg: 0.0, neu: 0.764, pos: 0.236, compound: 0.4926, neg: 0.0, neu: 0.484, pos: 0.516, compound: 0.0129, neg: 0.093, neu: 0.808, pos: 0.099, compound: 0.6343, neg: 0.048, neu: 0.85, pos: 0.102, compound: 0.0, neg: 0.0, neu: 1.0, pos: 0.0, compound: 0.4019, neg: 0.0, neu: 0.847, pos: 0.153, compound: -0.9061, neg: 0.172, neu: 0.798, pos: 0.03, compound: 0.3612, neg: 0.09, neu: 0.793, pos: 0.117, compound: 0.743, neg: 0.0, neu: 0.559, pos: 0.441, compound: -0.5574, neg: 0.141, neu: 0.859, pos: 0.0, compound: 0.5574, neg: 0.0, neu: 0.854, pos: 0.146, compound: 0.0, neg: 0.0, neu: 1.0, pos: 0.0, "
     ]
    }
   ],
   "source": [
    "for comment in comment_list[0:100]:\n",
    "    cleaned = Cleaner(comment)\n",
    "    ss = sid.polarity_scores(cleaned)\n",
    "    for k in sorted(ss):\n",
    "        print('{0}: {1}, '.format(k, ss[k]), end='')"
   ]
  },
  {
   "cell_type": "code",
   "execution_count": null,
   "metadata": {
    "collapsed": true
   },
   "outputs": [],
   "source": []
  }
 ],
 "metadata": {
  "kernelspec": {
   "display_name": "Python 3",
   "language": "python",
   "name": "python3"
  },
  "language_info": {
   "codemirror_mode": {
    "name": "ipython",
    "version": 3
   },
   "file_extension": ".py",
   "mimetype": "text/x-python",
   "name": "python",
   "nbconvert_exporter": "python",
   "pygments_lexer": "ipython3",
   "version": "3.6.4"
  }
 },
 "nbformat": 4,
 "nbformat_minor": 2
}
